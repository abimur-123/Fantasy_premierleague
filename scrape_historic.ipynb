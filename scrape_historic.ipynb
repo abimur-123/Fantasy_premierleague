{
 "cells": [
  {
   "cell_type": "code",
   "execution_count": 1,
   "metadata": {},
   "outputs": [],
   "source": [
    "from bs4 import BeautifulSoup\n",
    "from urllib.request import Request, urlopen\n",
    "from io import StringIO\n",
    "import pandas as pd\n",
    "import os"
   ]
  },
  {
   "cell_type": "code",
   "execution_count": 2,
   "metadata": {},
   "outputs": [
    {
     "data": {
      "text/plain": [
       "'/home/mojo/Github_personal/fantasy_EPL'"
      ]
     },
     "execution_count": 2,
     "metadata": {},
     "output_type": "execute_result"
    }
   ],
   "source": [
    "os.getcwd()"
   ]
  },
  {
   "cell_type": "code",
   "execution_count": 3,
   "metadata": {},
   "outputs": [],
   "source": [
    "#https://stackoverflow.com/a/16627277\n",
    "base_url = 'https://fantasyoverlord.com'\n",
    "scrape_link_page = base_url + '/FPL/History'\n",
    "\n",
    "req = Request(scrape_link_page, headers={'User-Agent': 'Mozilla/5.0'})\n",
    "webpage = urlopen(req).read()\n",
    "soup = BeautifulSoup(webpage, 'html.parser')\n",
    "name_box = soup.find('div', attrs={'class': 'col-md-12'})\n",
    "url_links = [link['href'] for link in name_box.find_all('a', href=True)]\n",
    "url_links = url_links[1:] #'/FPL/History?file=FPL16-GW5'\n",
    "file_names = [url.split('=')[-1] for url in url_links]"
   ]
  },
  {
   "cell_type": "code",
   "execution_count": 7,
   "metadata": {},
   "outputs": [],
   "source": [
    "file_dest = './data/historic_data/'\n",
    "for i in range(len(url_links)):\n",
    "    req = Request(base_url + url_links[i], headers={'User-Agent': 'Mozilla/5.0'})\n",
    "    webpage = urlopen(req).read()\n",
    "    data = pd.read_csv(StringIO(webpage.decode(\"utf-8\")))\n",
    "    data.to_csv(file_dest + file_names[i] + '.csv', index=False)"
   ]
  }
 ],
 "metadata": {
  "kernelspec": {
   "display_name": "Python 3",
   "language": "python",
   "name": "python3"
  },
  "language_info": {
   "codemirror_mode": {
    "name": "ipython",
    "version": 3
   },
   "file_extension": ".py",
   "mimetype": "text/x-python",
   "name": "python",
   "nbconvert_exporter": "python",
   "pygments_lexer": "ipython3",
   "version": "3.6.3"
  }
 },
 "nbformat": 4,
 "nbformat_minor": 2
}
